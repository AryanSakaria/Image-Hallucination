{
 "cells": [
  {
   "cell_type": "code",
   "execution_count": 1,
   "metadata": {},
   "outputs": [],
   "source": [
    "import numpy as np\n",
    "import cv2"
   ]
  },
  {
   "cell_type": "code",
   "execution_count": 2,
   "metadata": {},
   "outputs": [],
   "source": [
    "def im2patch(im,patchSize, intervalSize, boundarySize):\n",
    "    \n",
    "    temp = np.arange(-patchSize, patchSize+1)\n",
    "    p_xx,p_yy = np.meshgrid(temp, temp)\n",
    "    \n",
    "    nDim = p_xx.size\n",
    "    \n",
    "    height, width = im.shape\n",
    "    \n",
    "    temp_x = np.arange(boundarySize+1,width-boundarySize+1,intervalSize)\n",
    "    temp_y = np.arange(boundarySize+1,height-boundarySize+1,intervalSize)\n",
    "    \n",
    "    grid_xx, grid_yy = np.meshgrid(temp_x,temp_y)\n",
    "    p_xx = np.ravel(p_xx.T)\n",
    "    p_yy = np.ravel(p_yy.T)\n",
    "    grid_xx = np.ravel(grid_xx.T)\n",
    "    grid_yy = np.ravel(grid_yy.T)\n",
    "    \n",
    "    nPatches = grid_xx.size\n",
    "    \n",
    "    print(nDim, nPatches)\n",
    "    \n",
    "    xx = np.zeros((nPatches,nDim))\n",
    "    yy = np.zeros((nPatches,nDim))\n",
    "    \n",
    "    xx += p_xx \n",
    "    xx = xx.T\n",
    "    xx += grid_xx\n",
    "    xx = np.ravel(xx).astype(np.uint8)\n",
    "    \n",
    "    yy += p_yy \n",
    "    yy = yy.T\n",
    "    yy += grid_yy\n",
    "    yy = np.ravel(yy).astype(np.uint8)\n",
    "    \n",
    "    idx = yy  + (xx - 1) * height\n",
    "    n = idx.size\n",
    "    print(idx[:5])\n",
    "#     idx = idx - 1\n",
    "    \n",
    "    im = np.ravel(im.T)\n",
    "    \n",
    "    print(im[idx[:5]])\n",
    "    patches = np.reshape(im[idx],(nDim,nPatches))\n",
    "    patches = patches.T\n",
    "    \n",
    "    return patches"
   ]
  },
  {
   "cell_type": "code",
   "execution_count": 3,
   "metadata": {},
   "outputs": [],
   "source": [
    "def im2patchesN(image, patchSize, interval_size):\n",
    "    boundary_size = patchSize\n",
    "    mask = []\n",
    "    \n",
    "    patch_r = im2patches(image[:,:,0], patchSize, interval_size, mask, boundary_size)\n",
    "    \n",
    "    nh,num_samples= patch_r.shape\n",
    "    patches = np.zeros((nh, num_samples*num_dims))\n",
    "    \n",
    "    patches[:,:num_samples] = patch_r\n",
    "    \n",
    "    patch_g = im2patches(image[:,:,1], patchSize, interval_size, boundary_size)\n",
    "    patches[:,num_samples:2*num_samples] = patch_g\n",
    "\n",
    "    patch_b = im2patches(image[:,:,2], patchSize, interval_size, boundary_size)\n",
    "    patches[:,2*num_samples:] = patch_b\n",
    "\n",
    "    return patches"
   ]
  },
  {
   "cell_type": "code",
   "execution_count": 4,
   "metadata": {},
   "outputs": [],
   "source": [
    "img = np.array([[10,20,30,40,50,60,70,80],[11,21,31,41,51,61,71,81],[10,20,30,40,50,60,70,80],[10,20,30,40,50,60,70,80],[11,21,31,41,51,61,71,81]])\n",
    "im = cv2.imread('singapore.jpg')"
   ]
  },
  {
   "cell_type": "code",
   "execution_count": 5,
   "metadata": {},
   "outputs": [
    {
     "ename": "TypeError",
     "evalue": "'NoneType' object is not subscriptable",
     "output_type": "error",
     "traceback": [
      "\u001b[0;31m---------------------------------------------------------------------------\u001b[0m",
      "\u001b[0;31mTypeError\u001b[0m                                 Traceback (most recent call last)",
      "\u001b[0;32m<ipython-input-5-c6cd7715d3c1>\u001b[0m in \u001b[0;36m<module>\u001b[0;34m\u001b[0m\n\u001b[0;32m----> 1\u001b[0;31m \u001b[0ma\u001b[0m \u001b[0;34m=\u001b[0m \u001b[0mim2patch\u001b[0m\u001b[0;34m(\u001b[0m\u001b[0mim\u001b[0m\u001b[0;34m[\u001b[0m\u001b[0;34m:\u001b[0m\u001b[0;34m,\u001b[0m\u001b[0;34m:\u001b[0m\u001b[0;34m,\u001b[0m\u001b[0;36m2\u001b[0m\u001b[0;34m]\u001b[0m\u001b[0;34m,\u001b[0m\u001b[0;36m2\u001b[0m\u001b[0;34m,\u001b[0m \u001b[0;36m3\u001b[0m\u001b[0;34m,\u001b[0m \u001b[0;36m2\u001b[0m\u001b[0;34m)\u001b[0m\u001b[0;34m\u001b[0m\u001b[0;34m\u001b[0m\u001b[0m\n\u001b[0m",
      "\u001b[0;31mTypeError\u001b[0m: 'NoneType' object is not subscriptable"
     ]
    }
   ],
   "source": [
    "a = im2patch(im[:,:,2],2, 3, 2)"
   ]
  },
  {
   "cell_type": "code",
   "execution_count": 6,
   "metadata": {},
   "outputs": [
    {
     "ename": "NameError",
     "evalue": "name 'a' is not defined",
     "output_type": "error",
     "traceback": [
      "\u001b[0;31m---------------------------------------------------------------------------\u001b[0m",
      "\u001b[0;31mNameError\u001b[0m                                 Traceback (most recent call last)",
      "\u001b[0;32m<ipython-input-6-d74f1bcdd37c>\u001b[0m in \u001b[0;36m<module>\u001b[0;34m\u001b[0m\n\u001b[0;32m----> 1\u001b[0;31m \u001b[0ma\u001b[0m\u001b[0;34m.\u001b[0m\u001b[0mshape\u001b[0m\u001b[0;34m\u001b[0m\u001b[0;34m\u001b[0m\u001b[0m\n\u001b[0m",
      "\u001b[0;31mNameError\u001b[0m: name 'a' is not defined"
     ]
    }
   ],
   "source": [
    "a.shape"
   ]
  },
  {
   "cell_type": "code",
   "execution_count": null,
   "metadata": {},
   "outputs": [],
   "source": []
  }
 ],
 "metadata": {
  "kernelspec": {
   "display_name": "Python 3",
   "language": "python",
   "name": "python3"
  },
  "language_info": {
   "codemirror_mode": {
    "name": "ipython",
    "version": 3
   },
   "file_extension": ".py",
   "mimetype": "text/x-python",
   "name": "python",
   "nbconvert_exporter": "python",
   "pygments_lexer": "ipython3",
   "version": "3.6.8"
  }
 },
 "nbformat": 4,
 "nbformat_minor": 2
}
